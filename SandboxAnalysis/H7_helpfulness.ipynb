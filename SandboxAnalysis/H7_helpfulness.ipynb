{
 "cells": [
  {
   "cell_type": "markdown",
   "id": "83f4cfcc",
   "metadata": {},
   "source": [
    "# Hypotesis 7: Are longer reviews more helpful?"
   ]
  },
  {
   "cell_type": "code",
   "execution_count": 1,
   "id": "d2bbcfcb",
   "metadata": {},
   "outputs": [],
   "source": [
    "import pymongo\n",
    "import pandas as pd\n",
    "import numpy as np\n",
    "from seaborn import heatmap\n",
    "import seaborn as sns\n",
    "import matplotlib.pyplot as plt\n",
    "from scipy.stats import shapiro\n",
    "import scipy.stats"
   ]
  },
  {
   "cell_type": "code",
   "execution_count": 2,
   "id": "b7cd4070",
   "metadata": {},
   "outputs": [
    {
     "name": "stdout",
     "output_type": "stream",
     "text": [
      "(300639, 11)\n"
     ]
    }
   ],
   "source": [
    "# Connect to MongoDB and select the database \n",
    "mongo = pymongo.MongoClient()\n",
    "mongo_db = mongo.project\n",
    "# Load the reviews from the reviews collection \n",
    "data = pd.DataFrame(list(mongo_db.reviews.find({}, {'_id': False})))\n",
    "#Close the connection\n",
    "mongo.close() \n",
    "print(data.shape)"
   ]
  },
  {
   "cell_type": "markdown",
   "id": "20851040",
   "metadata": {},
   "source": [
    "### Feature engineering\n",
    "##### Add the columns \"review_length\" and \"helpfulness_ratio\""
   ]
  },
  {
   "cell_type": "code",
   "execution_count": 3,
   "id": "283a76ae",
   "metadata": {},
   "outputs": [],
   "source": [
    "# Calculate the length of each review and store it in a new column\n",
    "data['review_length'] = data['review_detail'].apply(lambda x: len(str(x)))\n",
    "\n",
    "# Calculate the helpfulness ratio for each review\n",
    "data['helpfulness_ratio'] = data['helpful_upvotes'] / data['helpful_total']"
   ]
  },
  {
   "cell_type": "code",
   "execution_count": 4,
   "id": "1ca64950",
   "metadata": {},
   "outputs": [
    {
     "data": {
      "text/html": [
       "<div>\n",
       "<style scoped>\n",
       "    .dataframe tbody tr th:only-of-type {\n",
       "        vertical-align: middle;\n",
       "    }\n",
       "\n",
       "    .dataframe tbody tr th {\n",
       "        vertical-align: top;\n",
       "    }\n",
       "\n",
       "    .dataframe thead th {\n",
       "        text-align: right;\n",
       "    }\n",
       "</style>\n",
       "<table border=\"1\" class=\"dataframe\">\n",
       "  <thead>\n",
       "    <tr style=\"text-align: right;\">\n",
       "      <th></th>\n",
       "      <th>movie</th>\n",
       "      <th>rating</th>\n",
       "      <th>genre</th>\n",
       "      <th>review_date</th>\n",
       "      <th>review_detail</th>\n",
       "      <th>review_id</th>\n",
       "      <th>review_summary</th>\n",
       "      <th>reviewer</th>\n",
       "      <th>spoiler_tag</th>\n",
       "      <th>helpful_upvotes</th>\n",
       "      <th>helpful_total</th>\n",
       "      <th>review_length</th>\n",
       "      <th>helpfulness_ratio</th>\n",
       "    </tr>\n",
       "  </thead>\n",
       "  <tbody>\n",
       "    <tr>\n",
       "      <th>0</th>\n",
       "      <td>Satanic (2016)</td>\n",
       "      <td>2</td>\n",
       "      <td>-</td>\n",
       "      <td>31 March 2019</td>\n",
       "      <td>Seriously, don't waste yout time, this is a pr...</td>\n",
       "      <td>rw4754736</td>\n",
       "      <td>Mind numbing trash</td>\n",
       "      <td>axh-35735</td>\n",
       "      <td>0</td>\n",
       "      <td>1</td>\n",
       "      <td>3</td>\n",
       "      <td>180</td>\n",
       "      <td>0.333333</td>\n",
       "    </tr>\n",
       "    <tr>\n",
       "      <th>1</th>\n",
       "      <td>Satanic (2016)</td>\n",
       "      <td>2</td>\n",
       "      <td>-</td>\n",
       "      <td>8 August 2018</td>\n",
       "      <td>Dropped out 20 mins in... characters were tota...</td>\n",
       "      <td>rw4274422</td>\n",
       "      <td>To lame to finish</td>\n",
       "      <td>skyking-14</td>\n",
       "      <td>0</td>\n",
       "      <td>1</td>\n",
       "      <td>4</td>\n",
       "      <td>407</td>\n",
       "      <td>0.250000</td>\n",
       "    </tr>\n",
       "    <tr>\n",
       "      <th>2</th>\n",
       "      <td>Satanic (2016)</td>\n",
       "      <td>6</td>\n",
       "      <td>-</td>\n",
       "      <td>24 September 2016</td>\n",
       "      <td>Seeing the ratings on IMDb I wondered why the ...</td>\n",
       "      <td>rw3550183</td>\n",
       "      <td>Not a bad movie and a bit different</td>\n",
       "      <td>mjsreg</td>\n",
       "      <td>0</td>\n",
       "      <td>26</td>\n",
       "      <td>46</td>\n",
       "      <td>678</td>\n",
       "      <td>0.565217</td>\n",
       "    </tr>\n",
       "    <tr>\n",
       "      <th>3</th>\n",
       "      <td>Satanic (2016)</td>\n",
       "      <td>2</td>\n",
       "      <td>-</td>\n",
       "      <td>30 October 2016</td>\n",
       "      <td>I only did that because 1 is the lowest point,...</td>\n",
       "      <td>rw3571658</td>\n",
       "      <td>I gave it 2 stars!</td>\n",
       "      <td>gothic-fiction</td>\n",
       "      <td>0</td>\n",
       "      <td>9</td>\n",
       "      <td>18</td>\n",
       "      <td>1134</td>\n",
       "      <td>0.500000</td>\n",
       "    </tr>\n",
       "    <tr>\n",
       "      <th>4</th>\n",
       "      <td>Satanic Meat Cleaver Massacre (2017)</td>\n",
       "      <td>1</td>\n",
       "      <td>-</td>\n",
       "      <td>2 August 2017</td>\n",
       "      <td>SATANIC MEAT CLEAVER MASSACRE is a dreadful in...</td>\n",
       "      <td>rw3770545</td>\n",
       "      <td>The title's a misnomer</td>\n",
       "      <td>Leofwine_draca</td>\n",
       "      <td>1</td>\n",
       "      <td>8</td>\n",
       "      <td>9</td>\n",
       "      <td>416</td>\n",
       "      <td>0.888889</td>\n",
       "    </tr>\n",
       "  </tbody>\n",
       "</table>\n",
       "</div>"
      ],
      "text/plain": [
       "                                  movie rating genre        review_date  \\\n",
       "0                        Satanic (2016)      2     -      31 March 2019   \n",
       "1                        Satanic (2016)      2     -      8 August 2018   \n",
       "2                        Satanic (2016)      6     -  24 September 2016   \n",
       "3                        Satanic (2016)      2     -    30 October 2016   \n",
       "4  Satanic Meat Cleaver Massacre (2017)      1     -      2 August 2017   \n",
       "\n",
       "                                       review_detail  review_id  \\\n",
       "0  Seriously, don't waste yout time, this is a pr...  rw4754736   \n",
       "1  Dropped out 20 mins in... characters were tota...  rw4274422   \n",
       "2  Seeing the ratings on IMDb I wondered why the ...  rw3550183   \n",
       "3  I only did that because 1 is the lowest point,...  rw3571658   \n",
       "4  SATANIC MEAT CLEAVER MASSACRE is a dreadful in...  rw3770545   \n",
       "\n",
       "                        review_summary        reviewer  spoiler_tag  \\\n",
       "0                   Mind numbing trash       axh-35735            0   \n",
       "1                    To lame to finish      skyking-14            0   \n",
       "2  Not a bad movie and a bit different          mjsreg            0   \n",
       "3                   I gave it 2 stars!  gothic-fiction            0   \n",
       "4               The title's a misnomer  Leofwine_draca            1   \n",
       "\n",
       "   helpful_upvotes  helpful_total  review_length  helpfulness_ratio  \n",
       "0                1              3            180           0.333333  \n",
       "1                1              4            407           0.250000  \n",
       "2               26             46            678           0.565217  \n",
       "3                9             18           1134           0.500000  \n",
       "4                8              9            416           0.888889  "
      ]
     },
     "execution_count": 4,
     "metadata": {},
     "output_type": "execute_result"
    }
   ],
   "source": [
    "data.head()"
   ]
  },
  {
   "cell_type": "markdown",
   "id": "b251979e",
   "metadata": {},
   "source": [
    "### Analysis and visualization\n",
    "#### Boxplot "
   ]
  },
  {
   "cell_type": "code",
   "execution_count": 5,
   "id": "cc095860",
   "metadata": {},
   "outputs": [
    {
     "data": {
      "image/png": "[encoded data removed]",
      "text/plain": [
       "<Figure size 432x288 with 1 Axes>"
      ]
     },
     "metadata": {
      "needs_background": "light"
     },
     "output_type": "display_data"
    }
   ],
   "source": [
    "# Filter the DataFrame for helpful and NOT helpful reviews \n",
    "# The reviews with a helpfulness_ratio > 0.5 are considered helpful, otherwise they aren't\n",
    "threshold = 0.5\n",
    "helpful_reviews = data[data['helpfulness_ratio'] >= threshold]\n",
    "NOT_helpful_reviews = data[data['helpfulness_ratio'] < threshold]\n",
    "\n",
    "# Access the word_counts column for helpful reviews\n",
    "helpful_length = helpful_reviews['review_length']\n",
    "# Access the word_counts column for NOT helpful reviews\n",
    "NOT_helpful_length = NOT_helpful_reviews['review_length'] \n",
    "\n",
    "length_at_review_boxplot = pd.DataFrame(data={\n",
    "    'Helpful reviews': helpful_length ,\n",
    "    'NOT helpful reviews': NOT_helpful_length \n",
    "}).boxplot(showfliers=False, showmeans=True, return_type='dict')\n",
    "plt.legend([length_at_review_boxplot['means'][0], length_at_review_boxplot['medians'][0]], ['Means', 'Medians'])\n",
    "plt.ylabel('number characters at review ');"
   ]
  },
  {
   "cell_type": "markdown",
   "id": "e774d357",
   "metadata": {},
   "source": [
    "We can see from the boxplot that helpful reviews are slighly longer than the not helpful ones.\n",
    "\n",
    "Let's test futher the association between the two variables."
   ]
  },
  {
   "cell_type": "code",
   "execution_count": 7,
   "id": "598f73c7",
   "metadata": {},
   "outputs": [
    {
     "name": "stdout",
     "output_type": "stream",
     "text": [
      "H0: The data is normally distributed\n",
      "Shapiro-Wilk test statistic: 0.8049801588058472\n",
      "p-value: 0.0\n",
      "\n",
      "Reject the null hypothesis. The data is not normally distributed\n"
     ]
    },
    {
     "name": "stderr",
     "output_type": "stream",
     "text": [
      "/home/ds/.local/lib/python3.8/site-packages/scipy/stats/_morestats.py:1816: UserWarning: p-value may not be accurate for N > 5000.\n",
      "  warnings.warn(\"p-value may not be accurate for N > 5000.\")\n"
     ]
    }
   ],
   "source": [
    "# is the data normally distributed ?\n",
    "\n",
    "# Perform Shapiro-Wilk test\n",
    "statistic, p_value = shapiro(data['review_length'])\n",
    "\n",
    "# Print the test statistic and p-value\n",
    "print('H0: The data is normally distributed')\n",
    "print(\"Shapiro-Wilk test statistic:\", statistic)\n",
    "print(\"p-value:\", p_value)\n",
    "if p_value > 0.05:\n",
    "    print('\\nDo not reject the null hypothesis.')\n",
    "else:\n",
    "    print('\\nReject the null hypothesis. The data is not normally distributed')"
   ]
  },
  {
   "cell_type": "markdown",
   "id": "a23d906f",
   "metadata": {},
   "source": [
    "As we have seen from the previous test, the data is not normally distributed so we have to use non parametric statistical tests to see if there is a relation between the two variables."
   ]
  },
  {
   "cell_type": "markdown",
   "id": "646205a5",
   "metadata": {},
   "source": [
    "### MANN-WHITNEY U TEST"
   ]
  },
  {
   "cell_type": "markdown",
   "id": "0000dc61",
   "metadata": {},
   "source": [
    "The test is expected to reject the null hypothesis, i.e., to conclude that the distribution underlying helpful_length is stochastically greater than the distribution underlying NOT_helpful_length, i.e., F(u) < G(u) for all u (if F is the cumulative distribution of helpful_length and G is the cumulative distribution of NOT_helpful_length)"
   ]
  },
  {
   "cell_type": "code",
   "execution_count": 8,
   "id": "827720f2",
   "metadata": {},
   "outputs": [
    {
     "name": "stdout",
     "output_type": "stream",
     "text": [
      "Mann–Whitney U test statistic under the null hypothesis: 8683371312.000.\n",
      "Computed Mann–Whitney U test statistic: 9408431507.500, p-value: 0.000.\n",
      "\n",
      "Reject the null hypothesis.\n"
     ]
    }
   ],
   "source": [
    "mann_whitney_u_stat, p_value = scipy.stats.mannwhitneyu(helpful_length, NOT_helpful_length, alternative='greater')\n",
    "\n",
    "# Print the test result\n",
    "null_hypothesis_stat = helpful_length.size * NOT_helpful_length.size * 0.5\n",
    "print(f'Mann–Whitney U test statistic under the null hypothesis: {null_hypothesis_stat:.3f}.')\n",
    "print(f'Computed Mann–Whitney U test statistic: {mann_whitney_u_stat:.3f}, p-value: {p_value:.3f}.')\n",
    "\n",
    "if p_value > 0.05:\n",
    "    print('\\nDo not reject the null hypothesis.')\n",
    "else:\n",
    "    print('\\nReject the null hypothesis.')"
   ]
  },
  {
   "cell_type": "markdown",
   "id": "1d99b03e",
   "metadata": {},
   "source": [
    "### Effect size : Cohen's d."
   ]
  },
  {
   "cell_type": "markdown",
   "id": "02a993f3",
   "metadata": {},
   "source": [
    "In order to be sure on the relation between the two variables we can use the Cohen's d."
   ]
  },
  {
   "cell_type": "code",
   "execution_count": 9,
   "id": "67db9fbb",
   "metadata": {},
   "outputs": [
    {
     "name": "stdout",
     "output_type": "stream",
     "text": [
      "Cohen's d: 0.11438468906785494\n"
     ]
    }
   ],
   "source": [
    "# Compute Cohen's d\n",
    "mean_diff = np.mean(helpful_length) - np.mean(NOT_helpful_length)\n",
    "pooled_std = np.sqrt((np.std(helpful_length)**2 + np.std(NOT_helpful_length)**2) / 2)\n",
    "cohens_d = mean_diff / pooled_std\n",
    "\n",
    "# Print the computed Cohen's d\n",
    "print(\"Cohen's d:\", cohens_d)"
   ]
  },
  {
   "cell_type": "markdown",
   "id": "15fb1602",
   "metadata": {},
   "source": [
    "A Cohen's d of 0.114 indicates that there is a small difference between the means of the compared groups. The positive sign suggests that the mean of one group is slightly higher than the mean of the other group. \n",
    "In conclusion, it can be said that there is a difference between the two groups and that the mean related to the helpful reviews, even if slightly, is higher than the mean related to the NOT helpful reviews."
   ]
  }
 ],
 "metadata": {
  "kernelspec": {
   "display_name": "Python 3 (ipykernel)",
   "language": "python",
   "name": "python3"
  },
  "language_info": {
   "codemirror_mode": {
    "name": "ipython",
    "version": 3
   },
   "file_extension": ".py",
   "mimetype": "text/x-python",
   "name": "python",
   "nbconvert_exporter": "python",
   "pygments_lexer": "ipython3",
   "version": "3.11.2"
  }
 },
 "nbformat": 4,
 "nbformat_minor": 5
}
