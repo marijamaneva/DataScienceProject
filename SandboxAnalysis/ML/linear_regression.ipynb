{
 "cells": [
  {
   "cell_type": "markdown",
   "id": "e1b249e1",
   "metadata": {},
   "source": [
    "## Linear Regression Analysis: Predicting Ratings and Evaluating Accuracy\n"
   ]
  },
  {
   "cell_type": "code",
   "execution_count": 1,
   "id": "2d10a0b8",
   "metadata": {},
   "outputs": [],
   "source": [
    "import pymongo\n",
    "import pandas as pd\n",
    "import numpy as np\n",
    "from sklearn.model_selection import train_test_split\n",
    "from sklearn.linear_model import LinearRegression\n",
    "from sklearn.metrics import mean_squared_error\n",
    "from sklearn.metrics import accuracy_score"
   ]
  },
  {
   "cell_type": "code",
   "execution_count": 2,
   "id": "6a338994",
   "metadata": {},
   "outputs": [],
   "source": [
    "# Load the features from 'features.csv'\n",
    "features = pd.read_csv('features.csv').dropna(subset=['rating'])\n",
    "\n",
    "# Create a panda Series \n",
    "series = pd.Series(features['feature_vector'])\n",
    "\n",
    "# Split each line into multiple values\n",
    "split_values = series.str.split(',')\n",
    "\n",
    "# Split the Series into columns\n",
    "X = split_values.apply(lambda x: pd.Series([item.strip('[]') for item in x]))\n",
    "\n",
    "# Convert X to float values\n",
    "X = X.astype(float)\n",
    "\n",
    "Y = features['rating']"
   ]
  },
  {
   "cell_type": "code",
   "execution_count": 3,
   "id": "9c73e3aa",
   "metadata": {},
   "outputs": [
    {
     "name": "stdout",
     "output_type": "stream",
     "text": [
      "Custom Accuracy: 49.79329894877751 %\n",
      "RMSE: 2.272781998632427\n"
     ]
    }
   ],
   "source": [
    "# Split the data into training and testing sets\n",
    "X_train, X_test, y_train, y_test = train_test_split(X, Y, test_size=0.2, random_state=42)\n",
    "\n",
    "# Initialize and train the linear regression model\n",
    "model = LinearRegression()\n",
    "model.fit(X_train, y_train)\n",
    "\n",
    "# Predict ratings for the test set\n",
    "y_pred = model.predict(X_test)\n",
    "\n",
    "# Convert the predicted ratings to discrete classes\n",
    "y_pred_classes = np.round(y_pred)  # Round the predictions to the nearest integer\n",
    "\n",
    "# Calculate accuracy with a variation od +/-1\n",
    "accuracy = sum(abs(y_test - y_pred_classes) <= 1) / len(y_test)\n",
    "\n",
    "#accuracy = np.sum(y_pred_classes == y_test) / len(y_test)\n",
    "print(\"Custom Accuracy:\", accuracy*100 , \"%\")\n",
    "\n",
    "# Calculate the Root Mean Squared Error (RMSE)\n",
    "rmse = np.sqrt(mean_squared_error(y_test, y_pred_classes))\n",
    "print(\"RMSE:\", rmse)"
   ]
  }
 ],
 "metadata": {
  "kernelspec": {
   "display_name": "Python 3 (ipykernel)",
   "language": "python",
   "name": "python3"
  },
  "language_info": {
   "codemirror_mode": {
    "name": "ipython",
    "version": 3
   },
   "file_extension": ".py",
   "mimetype": "text/x-python",
   "name": "python",
   "nbconvert_exporter": "python",
   "pygments_lexer": "ipython3",
   "version": "3.8.10"
  }
 },
 "nbformat": 4,
 "nbformat_minor": 5
}
