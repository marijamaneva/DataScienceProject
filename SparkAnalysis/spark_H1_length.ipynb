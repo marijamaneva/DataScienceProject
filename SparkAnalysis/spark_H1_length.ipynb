{
 "cells": [
  {
   "cell_type": "markdown",
   "id": "331d5612",
   "metadata": {},
   "source": [
    "# Big Data Hypothesis 1: Longer Reviews Are More Likely To Be Spoilers"
   ]
  },
  {
   "cell_type": "code",
   "execution_count": 1,
   "id": "29bc32e7",
   "metadata": {},
   "outputs": [
    {
     "name": "stderr",
     "output_type": "stream",
     "text": [
      "23/06/27 21:33:41 WARN Utils: Your hostname, DSaDBA resolves to a loopback address: 127.0.1.1; using 10.0.2.15 instead (on interface enp0s3)\n",
      "23/06/27 21:33:41 WARN Utils: Set SPARK_LOCAL_IP if you need to bind to another address\n",
      "Using Spark's default log4j profile: org/apache/spark/log4j-defaults.properties\n",
      "Setting default log level to \"WARN\".\n",
      "To adjust logging level use sc.setLogLevel(newLevel). For SparkR, use setLogLevel(newLevel).\n",
      "23/06/27 21:33:42 WARN NativeCodeLoader: Unable to load native-hadoop library for your platform... using builtin-java classes where applicable\n"
     ]
    }
   ],
   "source": [
    "import findspark\n",
    "# Locate the Spark installation \n",
    "findspark.init()\n",
    "\n",
    "import pyspark\n",
    "from pyspark import StorageLevel\n",
    "from pyspark.sql.functions import regexp_replace\n",
    "from pyspark.sql import *\n",
    "\n",
    "spark = SparkSession.builder\\\n",
    "        .appName(\"H1\")\\\n",
    "        .master(\"local[*]\")\\\n",
    "        .config(\"spark.driver.memory\", \"4g\")\\\n",
    "        .config(\"spark.executor.memory\", \"5g\")\\\n",
    "        .config(\"spark.storage.memoryFraction\", \"0.5\")\\\n",
    "        .config(\"spark.shuffle.memoryFraction\", \"0.5\")\\\n",
    "        .config(\"spark.driver.maxResultSize\", \"0\")\\\n",
    "        .getOrCreate()"
   ]
  },
  {
   "cell_type": "code",
   "execution_count": 2,
   "id": "d881f8de",
   "metadata": {},
   "outputs": [],
   "source": [
    "#Importing Needed Libraries \n",
    "import matplotlib.pyplot as plt\n",
    "import seaborn as sns\n",
    "from scipy import stats\n",
    "from pyspark.sql.functions import mean, col, lit, length, expr, when\n",
    "from pyspark.ml.stat import Correlation\n",
    "from pyspark.ml.feature import VectorAssembler\n",
    "import pandas as pd"
   ]
  },
  {
   "cell_type": "code",
   "execution_count": 3,
   "id": "06671e1e",
   "metadata": {},
   "outputs": [],
   "source": [
    "from pyspark.sql.types import StructType, StructField, ArrayType, StringType, LongType\n",
    "\n",
    "# Define the schema\n",
    "schema = StructType([\n",
    "    StructField('movie', StringType(), True),\n",
    "    StructField('rating', LongType(), True),\n",
    "    StructField('genre', StringType(), True),\n",
    "    StructField('review_date', StringType(),True),\n",
    "    StructField('review_detail', StringType(), True),\n",
    "    StructField('review_id', StringType(), True),\n",
    "    StructField('review_summary', StringType(), True),\n",
    "    StructField('reviewer', StringType(), True),\n",
    "    StructField('spoiler_tag', LongType(), True),\n",
    "    StructField('helpful_upvotes', LongType(), True),\n",
    "    StructField('helpful_total', LongType(), True)])"
   ]
  },
  {
   "cell_type": "code",
   "execution_count": 4,
   "id": "2a238447",
   "metadata": {},
   "outputs": [
    {
     "name": "stderr",
     "output_type": "stream",
     "text": [
      "                                                                                \r"
     ]
    }
   ],
   "source": [
    "# Limit the size of the data to around 1GB due to working on a single machine\n",
    "lim = 1000000\n",
    "\n",
    "\n",
    "# Read the files to filter from the HDFS and display the table\n",
    "columns = ['movie', 'review_detail', 'spoiler_tag']\n",
    "base_df = spark.read.csv('hdfs://localhost:54310/user/data/filtered', schema=schema, sep=\"\\t\", mode=\"DROPMALFORMED\").select(columns)\n",
    "df = base_df.sample(withReplacement=False, fraction=lim/base_df.count())\n",
    "#Preparing Data To Ivestigate The Hypothesis\n",
    "df.limit(5).toPandas()\n",
    "df = df.withColumn(\"rev_length\", length(\"review_detail\"))"
   ]
  },
  {
   "cell_type": "code",
   "execution_count": 5,
   "id": "9ecbc3dd",
   "metadata": {},
   "outputs": [
    {
     "name": "stderr",
     "output_type": "stream",
     "text": [
      "[Stage 13:======================================================> (35 + 1) / 36]\r"
     ]
    },
    {
     "name": "stdout",
     "output_type": "stream",
     "text": [
      "Spoiler Proportion - Short Reviews: 0.12953893430323982\n",
      "Spoiler Proportion - Long Reviews: 0.3074171633993731\n",
      "T-Statistic: -220.34989205438248\n",
      "P-Value: 0.0\n"
     ]
    },
    {
     "name": "stderr",
     "output_type": "stream",
     "text": [
      "\r",
      "                                                                                \r"
     ]
    }
   ],
   "source": [
    "# Split the data into two groups: shorter reviews and longer reviews\n",
    "median_length = df.approxQuantile(\"rev_length\", [0.5], 0)[0]\n",
    "short_reviews = df.filter(df['rev_length'] <= median_length)\n",
    "long_reviews = df.filter(df['rev_length'] > median_length)\n",
    "\n",
    "# Calculate the spoiler proportions for each group\n",
    "spoiler_proportion_short = short_reviews.agg(mean(col('spoiler_tag')).alias('spoiler_proportion_short')).collect()[0]['spoiler_proportion_short']\n",
    "spoiler_proportion_long = long_reviews.agg(mean(col('spoiler_tag')).alias('spoiler_proportion_long')).collect()[0]['spoiler_proportion_long']\n",
    "\n",
    "# Perform a t-test to compare the spoiler proportions of the two groups\n",
    "t_statistic, p_value = stats.ttest_ind(short_reviews.select('spoiler_tag').rdd.flatMap(list).collect(), long_reviews.select('spoiler_tag').rdd.flatMap(list).collect())\n",
    "\n",
    "# Print the results\n",
    "print('Spoiler Proportion - Short Reviews:', spoiler_proportion_short)\n",
    "print('Spoiler Proportion - Long Reviews:', spoiler_proportion_long)\n",
    "print('T-Statistic:', t_statistic)\n",
    "print('P-Value:', p_value)"
   ]
  },
  {
   "cell_type": "markdown",
   "id": "fc5d7c73",
   "metadata": {},
   "source": [
    "obtain a p-value equal to 0, it means that the observed difference in spoiler proportions between shorter and longer reviews is extremely unlikely to occur by chance alone. A p-value of 0 essentially indicates strong evidence against the null hypothesis and suggests a significant difference in spoiler proportions between the two groups.\n",
    "\n",
    "In practical terms, a p-value of 0 suggests that longer reviews are significantly more likely to contain spoilers compared to shorter reviews. It provides strong support for our hypothesis that longer reviews are associated with a higher probability of spoilers.\n",
    "\n",
    "The negative t-statistic value of -50 indicates that the mean spoiler proportion in the longer review group is significantly higher than the mean spoiler proportion in the shorter review group. This suggests a strong association between review length and the likelihood of containing spoilers, with longer reviews having a significantly higher spoiler proportion."
   ]
  },
  {
   "cell_type": "code",
   "execution_count": 6,
   "id": "d2345729",
   "metadata": {
    "scrolled": false
   },
   "outputs": [
    {
     "name": "stderr",
     "output_type": "stream",
     "text": [
      "                                                                                \r"
     ]
    },
    {
     "data": {
      "image/png": "[encoded data removed]",
      "text/plain": [
       "<Figure size 720x432 with 1 Axes>"
      ]
     },
     "metadata": {
      "needs_background": "light"
     },
     "output_type": "display_data"
    },
    {
     "name": "stderr",
     "output_type": "stream",
     "text": [
      "23/06/27 21:35:44 WARN InstanceBuilder$NativeBLAS: Failed to load implementation from:dev.ludovic.netlib.blas.JNIBLAS\n",
      "23/06/27 21:35:44 WARN InstanceBuilder$NativeBLAS: Failed to load implementation from:dev.ludovic.netlib.blas.ForeignLinkerBLAS\n",
      "                                                                                \r"
     ]
    },
    {
     "name": "stdout",
     "output_type": "stream",
     "text": [
      "Pearson correlation coefficient: 0.24578073663625535\n"
     ]
    },
    {
     "name": "stderr",
     "output_type": "stream",
     "text": [
      "/usr/local/spark/python/pyspark/sql/context.py:125: FutureWarning: Deprecated in 3.0.0. Use SparkSession.builder.getOrCreate() instead.\n",
      "  warnings.warn(\n"
     ]
    }
   ],
   "source": [
    "# Splitting Data Into Bins Based On The Review’s Length To Visualize The Hypothesis \n",
    "max_length = df.agg({\"rev_length\": \"max\"}).collect()[0][\"max(rev_length)\"]\n",
    "df_with_binss = df.withColumn(\"LengthBin\", expr(\"concat(cast(cast((rev_length / 1000) as int) * 1000 as string), '-', cast(cast((rev_length / 1000) as int) * 1000 + 1000 as string))\"))\n",
    "\n",
    "# Calculate The Portion of Spoiler Tags in Each Bin\n",
    "spoiler_proportion_by_bin = df_with_binss.groupBy(\"LengthBin\").agg(mean(\"spoiler_tag\").alias(\"SpoilerProportion\")).sort(\"LengthBin\").toPandas()\n",
    "\n",
    "# Plot \n",
    "plt.figure(figsize=(10, 6))\n",
    "sns.barplot(data=spoiler_proportion_by_bin, x='LengthBin', y='SpoilerProportion')\n",
    "plt.xlabel('Review Length Bins')\n",
    "plt.ylabel('Proportion of Spoiler Tags')\n",
    "plt.title('Proportion of Spoiler Tags by Review Length Bins')\n",
    "plt.xticks(rotation=90)\n",
    "plt.show()\n",
    "\n",
    "# Calculate the Correlation between length and spoiler \n",
    "assembler = VectorAssembler(inputCols=['rev_length', 'spoiler_tag'], outputCol='features')\n",
    "df_assembled = assembler.transform(df).select('features')\n",
    "pearson_corr = Correlation.corr(df_assembled, 'features', method='pearson').collect()[0][0][1, 0]\n",
    "\n",
    "print(\"Pearson correlation coefficient:\", pearson_corr)"
   ]
  },
  {
   "cell_type": "code",
   "execution_count": 7,
   "id": "a4cea741",
   "metadata": {},
   "outputs": [],
   "source": [
    "# Stop Spark\n",
    "spark.stop()"
   ]
  },
  {
   "cell_type": "code",
   "execution_count": null,
   "id": "b1000592",
   "metadata": {},
   "outputs": [],
   "source": []
  }
 ],
 "metadata": {
  "kernelspec": {
   "display_name": "Python 3 (ipykernel)",
   "language": "python",
   "name": "python3"
  },
  "language_info": {
   "codemirror_mode": {
    "name": "ipython",
    "version": 3
   },
   "file_extension": ".py",
   "mimetype": "text/x-python",
   "name": "python",
   "nbconvert_exporter": "python",
   "pygments_lexer": "ipython3",
   "version": "3.8.10"
  }
 },
 "nbformat": 4,
 "nbformat_minor": 5
}
