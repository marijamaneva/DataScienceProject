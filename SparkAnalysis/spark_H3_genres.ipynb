{
 "cells": [
  {
   "cell_type": "markdown",
   "metadata": {},
   "source": [
    "# Big Data Hypothesis 3 : the genre influences the ratings "
   ]
  },
  {
   "cell_type": "markdown",
   "metadata": {},
   "source": [
    "Loading dataset and remove lines without genres:"
   ]
  },
  {
   "cell_type": "code",
   "execution_count": 1,
   "metadata": {},
   "outputs": [
    {
     "name": "stderr",
     "output_type": "stream",
     "text": [
      "23/06/27 23:41:04 WARN Utils: Your hostname, DSaDBA resolves to a loopback address: 127.0.1.1; using 10.0.2.15 instead (on interface enp0s3)\n",
      "23/06/27 23:41:04 WARN Utils: Set SPARK_LOCAL_IP if you need to bind to another address\n",
      "Using Spark's default log4j profile: org/apache/spark/log4j-defaults.properties\n",
      "Setting default log level to \"WARN\".\n",
      "To adjust logging level use sc.setLogLevel(newLevel). For SparkR, use setLogLevel(newLevel).\n",
      "23/06/27 23:41:04 WARN NativeCodeLoader: Unable to load native-hadoop library for your platform... using builtin-java classes where applicable\n"
     ]
    }
   ],
   "source": [
    "import findspark\n",
    "# Locate the Spark installation \n",
    "findspark.init()\n",
    "\n",
    "import pyspark\n",
    "from pyspark import StorageLevel\n",
    "from pyspark.sql.functions import regexp_replace\n",
    "from pyspark.sql import *\n",
    "\n",
    "spark = SparkSession.builder\\\n",
    "        .appName(\"H3\")\\\n",
    "        .master(\"local[*]\")\\\n",
    "        .config(\"spark.driver.memory\", \"4g\")\\\n",
    "        .config(\"spark.executor.memory\", \"5g\")\\\n",
    "        .config(\"spark.storage.memoryFraction\", \"0.5\")\\\n",
    "        .config(\"spark.shuffle.memoryFraction\", \"0.5\")\\\n",
    "        .config(\"spark.driver.maxResultSize\", \"0\")\\\n",
    "        .getOrCreate()"
   ]
  },
  {
   "cell_type": "code",
   "execution_count": 9,
   "metadata": {},
   "outputs": [],
   "source": [
    "from pyspark import StorageLevel\n",
    "from pyspark.sql.functions import (regexp_replace, col, lit, length, expr, split, explode, mean,\n",
    "                                   when, count, array_remove, collect_list)\n",
    "import matplotlib.pyplot as plt\n",
    "import seaborn as sns\n",
    "from scipy.stats import f_oneway"
   ]
  },
  {
   "cell_type": "code",
   "execution_count": 3,
   "metadata": {},
   "outputs": [],
   "source": [
    "from pyspark.sql.types import StructType, StructField, ArrayType, StringType, LongType\n",
    "\n",
    "# Define the schema\n",
    "schema = StructType([\n",
    "    StructField('movie', StringType(), True),\n",
    "    StructField('rating', LongType(), True),\n",
    "    StructField('genre', StringType(), True),\n",
    "    StructField('review_date', StringType(),True),\n",
    "    StructField('review_detail', StringType(), True),\n",
    "    StructField('review_id', StringType(), True),\n",
    "    StructField('review_summary', StringType(), True),\n",
    "    StructField('reviewer', StringType(), True),\n",
    "    StructField('spoiler_tag', LongType(), True),\n",
    "    StructField('helpful_upvotes', LongType(), True),\n",
    "    StructField('helpful_total', LongType(), True)])"
   ]
  },
  {
   "cell_type": "code",
   "execution_count": 4,
   "metadata": {},
   "outputs": [
    {
     "name": "stderr",
     "output_type": "stream",
     "text": [
      "                                                                                \r"
     ]
    },
    {
     "data": {
      "text/html": [
       "<div>\n",
       "<style scoped>\n",
       "    .dataframe tbody tr th:only-of-type {\n",
       "        vertical-align: middle;\n",
       "    }\n",
       "\n",
       "    .dataframe tbody tr th {\n",
       "        vertical-align: top;\n",
       "    }\n",
       "\n",
       "    .dataframe thead th {\n",
       "        text-align: right;\n",
       "    }\n",
       "</style>\n",
       "<table border=\"1\" class=\"dataframe\">\n",
       "  <thead>\n",
       "    <tr style=\"text-align: right;\">\n",
       "      <th></th>\n",
       "      <th>movie</th>\n",
       "      <th>rating</th>\n",
       "      <th>genre</th>\n",
       "    </tr>\n",
       "  </thead>\n",
       "  <tbody>\n",
       "    <tr>\n",
       "      <th>0</th>\n",
       "      <td>Satanic (2016)</td>\n",
       "      <td>4</td>\n",
       "      <td>-</td>\n",
       "    </tr>\n",
       "    <tr>\n",
       "      <th>1</th>\n",
       "      <td>Satanic (2016)</td>\n",
       "      <td>1</td>\n",
       "      <td>-</td>\n",
       "    </tr>\n",
       "    <tr>\n",
       "      <th>2</th>\n",
       "      <td>Satanic (2016)</td>\n",
       "      <td>1</td>\n",
       "      <td>-</td>\n",
       "    </tr>\n",
       "    <tr>\n",
       "      <th>3</th>\n",
       "      <td>Satanic (2016)</td>\n",
       "      <td>10</td>\n",
       "      <td>-</td>\n",
       "    </tr>\n",
       "    <tr>\n",
       "      <th>4</th>\n",
       "      <td>Satanic (2016)</td>\n",
       "      <td>1</td>\n",
       "      <td>-</td>\n",
       "    </tr>\n",
       "  </tbody>\n",
       "</table>\n",
       "</div>"
      ],
      "text/plain": [
       "            movie  rating genre\n",
       "0  Satanic (2016)       4     -\n",
       "1  Satanic (2016)       1     -\n",
       "2  Satanic (2016)       1     -\n",
       "3  Satanic (2016)      10     -\n",
       "4  Satanic (2016)       1     -"
      ]
     },
     "execution_count": 4,
     "metadata": {},
     "output_type": "execute_result"
    }
   ],
   "source": [
    "# Limit the size of the data to around 1GB due to working on a single machine\n",
    "lim = 1000000\n",
    "\n",
    "\n",
    "# Read the files to filter from the HDFS and display the table\n",
    "columns = ['movie', 'rating', 'genre']\n",
    "base_df = spark.read.csv('hdfs://localhost:54310/user/data/filtered', schema=schema, sep=\"\\t\", mode=\"DROPMALFORMED\").select(columns)\n",
    "df = base_df.sample(withReplacement=False, fraction=lim/base_df.count())\n",
    "#Preparing Data To Ivestigate The Hypothesis\n",
    "df.limit(5).toPandas()"
   ]
  },
  {
   "cell_type": "code",
   "execution_count": 7,
   "metadata": {},
   "outputs": [
    {
     "name": "stdout",
     "output_type": "stream",
     "text": [
      "+------+-------+\n",
      "|rating|  genre|\n",
      "+------+-------+\n",
      "|     6|  Drama|\n",
      "|     6|Musical|\n",
      "|    10|  Drama|\n",
      "|    10|Musical|\n",
      "|     8| Comedy|\n",
      "|     8|  Drama|\n",
      "|     8|Romance|\n",
      "|  null| Comedy|\n",
      "|  null|  Drama|\n",
      "|  null|Romance|\n",
      "|     9| Comedy|\n",
      "|     9|  Drama|\n",
      "|     9|Romance|\n",
      "|    10| Comedy|\n",
      "|    10|  Drama|\n",
      "|    10|Romance|\n",
      "|     6| Comedy|\n",
      "|     6|  Drama|\n",
      "|     6|Romance|\n",
      "|    10| Comedy|\n",
      "+------+-------+\n",
      "only showing top 20 rows\n",
      "\n"
     ]
    },
    {
     "name": "stderr",
     "output_type": "stream",
     "text": [
      "                                                                                \r"
     ]
    },
    {
     "name": "stdout",
     "output_type": "stream",
     "text": [
      "['Crime', 'Romance', 'Thriller', 'Adventure', 'Drama', 'War', 'Documentary', 'Fantasy', 'Mystery', 'Musical', 'Animation', 'IMAX', 'Horror', 'Western', 'Comedy', 'Children', 'Action']\n"
     ]
    },
    {
     "name": "stderr",
     "output_type": "stream",
     "text": [
      "                                                                                \r"
     ]
    },
    {
     "name": "stdout",
     "output_type": "stream",
     "text": [
      "+-----------+------------------+\n",
      "|      genre|        avg_rating|\n",
      "+-----------+------------------+\n",
      "|      Crime| 7.008521846916641|\n",
      "|    Romance| 7.091048986919723|\n",
      "|   Thriller| 6.614992513300838|\n",
      "|  Adventure|6.7017440836220565|\n",
      "|      Drama| 7.161871497035172|\n",
      "|        War| 7.210330684439887|\n",
      "|Documentary| 7.445783132530121|\n",
      "|    Fantasy| 6.684526436578692|\n",
      "|    Mystery| 6.892853438439996|\n",
      "|    Musical|  7.47201182338814|\n",
      "|  Animation| 7.557563959955506|\n",
      "|       IMAX| 6.505897219882056|\n",
      "|     Horror| 6.246445811016333|\n",
      "|    Western| 7.338804220398593|\n",
      "|     Comedy| 6.914415403763087|\n",
      "|   Children|7.3903332112779205|\n",
      "|     Action|  6.55267410831736|\n",
      "+-----------+------------------+\n",
      "\n"
     ]
    },
    {
     "name": "stderr",
     "output_type": "stream",
     "text": [
      "                                                                                \r"
     ]
    },
    {
     "data": {
      "image/png": "[encoded data removed]",
      "text/plain": [
       "<Figure size 720x432 with 1 Axes>"
      ]
     },
     "metadata": {
      "needs_background": "light"
     },
     "output_type": "display_data"
    }
   ],
   "source": [
    "# Preparing Data to Investigate the Hypothesis\n",
    "df = df.filter(~col('genre').contains('-'))\n",
    "df = df.filter(~col('genre').contains('no genres listed'))\n",
    "\n",
    "# Split the genre field by the \"|\" character\n",
    "split_genres = split(df['genre'], '\\|')\n",
    "\n",
    "# Add the split genre columns to the original DataFrame\n",
    "df = df.withColumn('genres_list', array_remove(split_genres, ''))\n",
    "\n",
    "# Convert the genre-specific columns to a single 'genre' column using explode\n",
    "df = df.select(col('rating'), explode(col('genres_list')).alias('genre'))\n",
    "\n",
    "# Print dataset with rating for each review and genre\n",
    "df.show()\n",
    "\n",
    "# Get unique values in the column\n",
    "unique_values = df.select('genre').distinct().collect()\n",
    "unique_values = [row['genre'] for row in unique_values]\n",
    "\n",
    "# Print the unique values\n",
    "print(unique_values)\n",
    "\n",
    "# Calculate the mean rating for each genre\n",
    "mean_ratings = df.groupBy('genre').agg(mean('rating').alias('avg_rating'))\n",
    "\n",
    "# Print the dataset with genre and average rating columns\n",
    "mean_ratings.show()\n",
    "\n",
    "# Create a bar plot\n",
    "mean_ratings_pd = mean_ratings.toPandas()\n",
    "mean_ratings_pd.set_index('genre', inplace=True)\n",
    "\n",
    "plt.figure(figsize=(10, 6))\n",
    "mean_ratings_pd['avg_rating'].plot(kind='bar')\n",
    "plt.xlabel('Genre')\n",
    "plt.ylabel('Average Rating')\n",
    "plt.title('Average Rating by Genre')\n",
    "plt.xticks(rotation=45)\n",
    "plt.show()"
   ]
  },
  {
   "cell_type": "markdown",
   "metadata": {},
   "source": [
    "## ANOVA TEST"
   ]
  },
  {
   "cell_type": "code",
   "execution_count": 10,
   "metadata": {},
   "outputs": [
    {
     "name": "stderr",
     "output_type": "stream",
     "text": [
      "[Stage 14:===================================================>    (33 + 3) / 36]\r"
     ]
    },
    {
     "name": "stdout",
     "output_type": "stream",
     "text": [
      "ANOVA results:\n",
      "F-statistic: 204.63514069102627\n",
      "p-value: 0.0\n"
     ]
    },
    {
     "name": "stderr",
     "output_type": "stream",
     "text": [
      "\r",
      "[Stage 14:======================================================> (35 + 1) / 36]\r",
      "\r",
      "                                                                                \r"
     ]
    }
   ],
   "source": [
    "# Group the ratings by genre\n",
    "grouped_data = df.groupBy('genre').agg(collect_list('rating').alias('ratings'))\n",
    "\n",
    "# Perform ANOVA\n",
    "ratings_by_genre = [row['ratings'] for row in grouped_data.collect()]\n",
    "statistic, p_value = f_oneway(*ratings_by_genre)\n",
    "\n",
    "# Print the results\n",
    "print(\"ANOVA results:\")\n",
    "print(\"F-statistic:\", statistic)\n",
    "print(\"p-value:\", p_value)"
   ]
  },
  {
   "cell_type": "code",
   "execution_count": 11,
   "metadata": {},
   "outputs": [],
   "source": [
    "# Stop Spark\n",
    "spark.stop()"
   ]
  },
  {
   "cell_type": "code",
   "execution_count": null,
   "metadata": {},
   "outputs": [],
   "source": []
  }
 ],
 "metadata": {
  "kernelspec": {
   "display_name": "Python 3 (ipykernel)",
   "language": "python",
   "name": "python3"
  },
  "language_info": {
   "codemirror_mode": {
    "name": "ipython",
    "version": 3
   },
   "file_extension": ".py",
   "mimetype": "text/x-python",
   "name": "python",
   "nbconvert_exporter": "python",
   "pygments_lexer": "ipython3",
   "version": "3.8.10"
  }
 },
 "nbformat": 4,
 "nbformat_minor": 2
}
