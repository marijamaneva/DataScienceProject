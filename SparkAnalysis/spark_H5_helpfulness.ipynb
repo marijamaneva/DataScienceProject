{
 "cells": [
  {
   "cell_type": "markdown",
   "id": "7112835f",
   "metadata": {},
   "source": [
    "# Big Data Hypotesis 5: Are spoiler reviews considered less helpful by the users?"
   ]
  },
  {
   "cell_type": "code",
   "execution_count": 1,
   "id": "f5da6ac7",
   "metadata": {},
   "outputs": [
    {
     "name": "stderr",
     "output_type": "stream",
     "text": [
      "23/06/27 18:29:25 WARN Utils: Your hostname, DSaDBA resolves to a loopback address: 127.0.1.1; using 10.0.2.15 instead (on interface enp0s3)\n",
      "23/06/27 18:29:25 WARN Utils: Set SPARK_LOCAL_IP if you need to bind to another address\n",
      "Using Spark's default log4j profile: org/apache/spark/log4j-defaults.properties\n",
      "Setting default log level to \"WARN\".\n",
      "To adjust logging level use sc.setLogLevel(newLevel). For SparkR, use setLogLevel(newLevel).\n",
      "23/06/27 18:29:25 WARN NativeCodeLoader: Unable to load native-hadoop library for your platform... using builtin-java classes where applicable\n"
     ]
    }
   ],
   "source": [
    "import findspark\n",
    "# Locate the Spark installation \n",
    "findspark.init()\n",
    "\n",
    "import pyspark\n",
    "from pyspark import StorageLevel\n",
    "from pyspark.sql.functions import regexp_replace\n",
    "from pyspark.sql import *\n",
    "\n",
    "spark = SparkSession.builder\\\n",
    "        .appName(\"H1\")\\\n",
    "        .master(\"local[*]\")\\\n",
    "        .config(\"spark.driver.memory\", \"4g\")\\\n",
    "        .config(\"spark.executor.memory\", \"5g\")\\\n",
    "        .config(\"spark.storage.memoryFraction\", \"0.5\")\\\n",
    "        .config(\"spark.shuffle.memoryFraction\", \"0.5\")\\\n",
    "        .config(\"spark.driver.maxResultSize\", \"0\")\\\n",
    "        .getOrCreate()"
   ]
  },
  {
   "cell_type": "code",
   "execution_count": 2,
   "id": "dc4aa1ab",
   "metadata": {},
   "outputs": [],
   "source": [
    "#Importing Needed Libraries \n",
    "from pyspark.sql.functions import col, sum, count, when\n",
    "from pyspark.sql import SparkSession\n",
    "import matplotlib.pyplot as plt\n",
    "from scipy.stats import chi2_contingency\n",
    "from scipy.stats import t\n",
    "import numpy as np\n",
    "import pandas as pd"
   ]
  },
  {
   "cell_type": "code",
   "execution_count": 3,
   "id": "5daf8540",
   "metadata": {},
   "outputs": [],
   "source": [
    "from pyspark.sql.types import StructType, StructField, ArrayType, StringType, LongType\n",
    "\n",
    "# Define the schema\n",
    "schema = StructType([\n",
    "    StructField('movie', StringType(), True),\n",
    "    StructField('rating', LongType(), True),\n",
    "    StructField('genre', StringType(), True),\n",
    "    StructField('review_date', StringType(),True),\n",
    "    StructField('review_detail', StringType(), True),\n",
    "    StructField('review_id', StringType(), True),\n",
    "    StructField('review_summary', StringType(), True),\n",
    "    StructField('reviewer', StringType(), True),\n",
    "    StructField('spoiler_tag', LongType(), True),\n",
    "    StructField('helpful_upvotes', LongType(), True),\n",
    "    StructField('helpful_total', LongType(), True)])"
   ]
  },
  {
   "cell_type": "code",
   "execution_count": 4,
   "id": "beee91aa",
   "metadata": {},
   "outputs": [
    {
     "name": "stderr",
     "output_type": "stream",
     "text": [
      "                                                                                \r"
     ]
    },
    {
     "data": {
      "text/html": [
       "<div>\n",
       "<style scoped>\n",
       "    .dataframe tbody tr th:only-of-type {\n",
       "        vertical-align: middle;\n",
       "    }\n",
       "\n",
       "    .dataframe tbody tr th {\n",
       "        vertical-align: top;\n",
       "    }\n",
       "\n",
       "    .dataframe thead th {\n",
       "        text-align: right;\n",
       "    }\n",
       "</style>\n",
       "<table border=\"1\" class=\"dataframe\">\n",
       "  <thead>\n",
       "    <tr style=\"text-align: right;\">\n",
       "      <th></th>\n",
       "      <th>movie</th>\n",
       "      <th>spoiler_tag</th>\n",
       "      <th>review_detail</th>\n",
       "      <th>helpful_upvotes</th>\n",
       "      <th>helpful_total</th>\n",
       "    </tr>\n",
       "  </thead>\n",
       "  <tbody>\n",
       "    <tr>\n",
       "      <th>0</th>\n",
       "      <td>Satanic (2016)</td>\n",
       "      <td>1</td>\n",
       "      <td>The only two things that stopped me from givin...</td>\n",
       "      <td>6</td>\n",
       "      <td>12</td>\n",
       "    </tr>\n",
       "    <tr>\n",
       "      <th>1</th>\n",
       "      <td>Satanic (2016)</td>\n",
       "      <td>0</td>\n",
       "      <td>Who knew that worshiping the Devil would be th...</td>\n",
       "      <td>3</td>\n",
       "      <td>6</td>\n",
       "    </tr>\n",
       "    <tr>\n",
       "      <th>2</th>\n",
       "      <td>Satanic (2016)</td>\n",
       "      <td>0</td>\n",
       "      <td>First of all, I watch movies for fun, and this...</td>\n",
       "      <td>9</td>\n",
       "      <td>20</td>\n",
       "    </tr>\n",
       "    <tr>\n",
       "      <th>3</th>\n",
       "      <td>Satanic (2016)</td>\n",
       "      <td>0</td>\n",
       "      <td>Seriously, don't waste yout time, this is a pr...</td>\n",
       "      <td>1</td>\n",
       "      <td>3</td>\n",
       "    </tr>\n",
       "    <tr>\n",
       "      <th>4</th>\n",
       "      <td>Satanic (2016)</td>\n",
       "      <td>0</td>\n",
       "      <td>Awful plot, awful dialogue, and silly special ...</td>\n",
       "      <td>1</td>\n",
       "      <td>4</td>\n",
       "    </tr>\n",
       "  </tbody>\n",
       "</table>\n",
       "</div>"
      ],
      "text/plain": [
       "            movie  spoiler_tag  \\\n",
       "0  Satanic (2016)            1   \n",
       "1  Satanic (2016)            0   \n",
       "2  Satanic (2016)            0   \n",
       "3  Satanic (2016)            0   \n",
       "4  Satanic (2016)            0   \n",
       "\n",
       "                                       review_detail  helpful_upvotes  \\\n",
       "0  The only two things that stopped me from givin...                6   \n",
       "1  Who knew that worshiping the Devil would be th...                3   \n",
       "2  First of all, I watch movies for fun, and this...                9   \n",
       "3  Seriously, don't waste yout time, this is a pr...                1   \n",
       "4  Awful plot, awful dialogue, and silly special ...                1   \n",
       "\n",
       "   helpful_total  \n",
       "0             12  \n",
       "1              6  \n",
       "2             20  \n",
       "3              3  \n",
       "4              4  "
      ]
     },
     "execution_count": 4,
     "metadata": {},
     "output_type": "execute_result"
    }
   ],
   "source": [
    "# Limit the size of the data to around 1GB due to working on a single machine\n",
    "lim = 1000000\n",
    "\n",
    "\n",
    "# Read the files to filter from the HDFS and display the table\n",
    "columns = ['movie', 'spoiler_tag', 'review_detail', 'helpful_upvotes', 'helpful_total']\n",
    "base_df = spark.read.csv('hdfs://localhost:54310/user/data/filtered', schema=schema, sep=\"\\t\", mode=\"DROPMALFORMED\").select(columns)\n",
    "df = base_df.sample(withReplacement=False, fraction=lim/base_df.count())\n",
    "#Preparing Data To Ivestigate The Hypothesis\n",
    "df.limit(5).toPandas()"
   ]
  },
  {
   "cell_type": "code",
   "execution_count": 6,
   "id": "54c9020a",
   "metadata": {},
   "outputs": [
    {
     "name": "stderr",
     "output_type": "stream",
     "text": [
      "                                                                                \r"
     ]
    },
    {
     "name": "stdout",
     "output_type": "stream",
     "text": [
      "Spoiler reviews: 219671\n",
      "No spoiler reviews: 782270\n"
     ]
    },
    {
     "name": "stderr",
     "output_type": "stream",
     "text": [
      "[Stage 16:================================================>       (31 + 5) / 36]\r"
     ]
    },
    {
     "name": "stdout",
     "output_type": "stream",
     "text": [
      "Percentage of helpfulness_prop for reviews with spoilers: 21.88%\n",
      "Percentage of helpfulness_prop for reviews with NO spoilers: 78.12%\n"
     ]
    },
    {
     "name": "stderr",
     "output_type": "stream",
     "text": [
      "\r",
      "[Stage 16:=================================================>      (32 + 4) / 36]\r",
      "\r",
      "                                                                                \r"
     ]
    }
   ],
   "source": [
    "# Compute helpfulness proportions\n",
    "df = df.withColumn('helpfulness_prop', col('helpful_upvotes') / col('helpful_total'))\n",
    "\n",
    "# Calculate summary statistics\n",
    "num_spoiler_reviews = df.filter(col('spoiler_tag') == 1).count()\n",
    "num_no_spoiler_reviews = df.filter(col('spoiler_tag') == 0).count()\n",
    "\n",
    "print('Spoiler reviews:', num_spoiler_reviews)\n",
    "print('No spoiler reviews:', num_no_spoiler_reviews)\n",
    "\n",
    "# Calculate total helpfulness proportions\n",
    "total_helpfulness = df.groupBy().agg(sum('helpfulness_prop')).collect()[0][0]\n",
    "sum_helpfulness_spoiler = df.filter(col('spoiler_tag') == 1).groupBy().agg(sum('helpfulness_prop')).collect()[0][0]\n",
    "sum_helpfulness_NO_spoiler = df.filter(col('spoiler_tag') == 0).groupBy().agg(sum('helpfulness_prop')).collect()[0][0]\n",
    "\n",
    "# Calculate percentage of helpfulness_prop\n",
    "percentage_spoiler = (sum_helpfulness_spoiler / total_helpfulness) * 100\n",
    "percentage_NO_spoiler = (sum_helpfulness_NO_spoiler / total_helpfulness) * 100\n",
    "\n",
    "print(\"Percentage of helpfulness_prop for reviews with spoilers: %.2f%%\" % percentage_spoiler)\n",
    "print(\"Percentage of helpfulness_prop for reviews with NO spoilers: %.2f%%\" % percentage_NO_spoiler)"
   ]
  },
  {
   "cell_type": "code",
   "execution_count": 7,
   "id": "3e79e29f",
   "metadata": {},
   "outputs": [
    {
     "data": {
      "image/png": "[encoded data removed]",
      "text/plain": [
       "<Figure size 432x288 with 1 Axes>"
      ]
     },
     "metadata": {},
     "output_type": "display_data"
    }
   ],
   "source": [
    "# Pie chart\n",
    "percentages = [percentage_spoiler, percentage_NO_spoiler]\n",
    "labels = ['helpful reviews with spoilers', 'helpful reviews with NO spoilers']\n",
    "plt.pie(percentages, labels=labels, autopct='%1.1f%%')\n",
    "plt.title('Percentage of Helpful Reviews - Spoiler vs No Spoiler')\n",
    "plt.show()\n"
   ]
  },
  {
   "cell_type": "markdown",
   "id": "95bf04da",
   "metadata": {},
   "source": [
    "Let's use a statistical test to confirm that there is actually a significant association between two categorical variables : presence of spoilers and proportion of helpfulness . If there is an association, it means that the percentages calculated can be considered as legitimate for the two categories.\n",
    "\n",
    "H0: The presence of spoilers does not have an effect on the proportion of helpfulness in reviews.\n",
    "\n",
    "H1: The presence of spoilers has an effect on the proportion of helpfulness in reviews.\n",
    "\n",
    "### CHI-2 TEST OF INDIPENDANCE\n",
    "In the test we have used two different variables: the \"spoiler_tag\" column contains binary values indicating whether each review has a spoiler (1) or not (0) and The \"helpfulness_prop\" column contains the proportion of helpfulness for each review.\n",
    "We are trying to see if there is actually an association between two variables.\n"
   ]
  },
  {
   "cell_type": "code",
   "execution_count": 9,
   "id": "d5128204",
   "metadata": {},
   "outputs": [
    {
     "name": "stderr",
     "output_type": "stream",
     "text": [
      "                                                                                \r"
     ]
    },
    {
     "name": "stdout",
     "output_type": "stream",
     "text": [
      "Chi-square test statistic: 13494.789377349494\n",
      "P-value: 4.790407305671754e-69\n",
      "\n",
      "Reject the null hypothesis.\n"
     ]
    }
   ],
   "source": [
    "# Chi-square test of independence\n",
    "contingency_table = df.groupBy('spoiler_tag', 'helpfulness_prop').agg(count('*')).toPandas()\n",
    "contingency_table = contingency_table.pivot(index='spoiler_tag', columns='helpfulness_prop', values='count(1)').fillna(0)\n",
    "chi2, p, dof, expected = chi2_contingency(contingency_table)\n",
    "\n",
    "print(\"Chi-square test statistic:\", chi2)\n",
    "print(\"P-value:\", p)\n",
    "\n",
    "if p > 0.05:\n",
    "    print('\\nDo not reject the null hypothesis.')\n",
    "else:\n",
    "    print('\\nReject the null hypothesis.')"
   ]
  },
  {
   "cell_type": "markdown",
   "id": "b1d26bb7",
   "metadata": {},
   "source": [
    "As an effect size measure I decided to use the Cohen's d.\n",
    "In this case, I'll calculate the Cohen's d to quantify the effect size of the difference in helpfulness between reviews with spoilers and reviews without spoilers."
   ]
  },
  {
   "cell_type": "code",
   "execution_count": 10,
   "id": "7b9ab407",
   "metadata": {},
   "outputs": [
    {
     "name": "stderr",
     "output_type": "stream",
     "text": [
      "                                                                                \r"
     ]
    },
    {
     "name": "stdout",
     "output_type": "stream",
     "text": [
      "\n",
      "Cohen's d: -0.016309180613388107\n",
      "\n",
      "95% Confidence Interval:\n",
      "Low: -0.006514099960953309\n",
      "High: -0.003583842721044953\n"
     ]
    }
   ],
   "source": [
    "# Cohen's d\n",
    "helpfulness_spoiler = df.filter(col('spoiler_tag') == 1).select('helpfulness_prop').toPandas().iloc[:, 0]\n",
    "helpfulness_no_spoiler = df.filter(col('spoiler_tag') == 0).select('helpfulness_prop').toPandas().iloc[:, 0]\n",
    "\n",
    "mean_spoiler = np.mean(helpfulness_spoiler)\n",
    "mean_no_spoiler = np.mean(helpfulness_no_spoiler)\n",
    "std_spoiler = np.std(helpfulness_spoiler,ddof=1)\n",
    "std_no_spoiler = np.std(helpfulness_no_spoiler, ddof=1)\n",
    "n_spoiler = len(helpfulness_spoiler)\n",
    "n_no_spoiler = len(helpfulness_no_spoiler)\n",
    "\n",
    "pooled_std = np.sqrt(((n_spoiler - 1) * std_spoiler**2 + (n_no_spoiler - 1) * std_no_spoiler**2) / (n_spoiler + n_no_spoiler - 2))\n",
    "cohens_d = (mean_spoiler - mean_no_spoiler) / pooled_std\n",
    "\n",
    "print(\"\\nCohen's d:\", cohens_d)\n",
    "\n",
    "# Confidence intervals\n",
    "t_critical = t.ppf(1 - 0.05 / 2, n_spoiler + n_no_spoiler - 2)\n",
    "margin_of_error = t_critical * pooled_std * np.sqrt(1 / n_spoiler + 1 / n_no_spoiler)\n",
    "\n",
    "confidence_low = (mean_spoiler - mean_no_spoiler) - margin_of_error\n",
    "confidence_high = (mean_spoiler - mean_no_spoiler) + margin_of_error\n",
    "\n",
    "print(\"\\n95% Confidence Interval:\")\n",
    "print(\"Low:\", confidence_low)\n",
    "print(\"High:\", confidence_high)"
   ]
  },
  {
   "cell_type": "markdown",
   "id": "d5d01085",
   "metadata": {},
   "source": [
    "Based on these results, there is a small difference in helpfulness between reviews with and without spoilers, with reviews without spoilers being slightly more helpful on average. However, this difference is not statistically significant, as indicated by the large p-value. Therefore, you do not have strong evidence to conclude that the presence of spoilers significantly affects the helpfulness of reviews in the given dataset."
   ]
  },
  {
   "cell_type": "code",
   "execution_count": 11,
   "id": "3ef6b85c",
   "metadata": {},
   "outputs": [],
   "source": [
    "# Stop Spark\n",
    "spark.stop()"
   ]
  },
  {
   "cell_type": "code",
   "execution_count": null,
   "id": "8fd8e2ec",
   "metadata": {},
   "outputs": [],
   "source": []
  }
 ],
 "metadata": {
  "kernelspec": {
   "display_name": "Python 3 (ipykernel)",
   "language": "python",
   "name": "python3"
  },
  "language_info": {
   "codemirror_mode": {
    "name": "ipython",
    "version": 3
   },
   "file_extension": ".py",
   "mimetype": "text/x-python",
   "name": "python",
   "nbconvert_exporter": "python",
   "pygments_lexer": "ipython3",
   "version": "3.8.10"
  }
 },
 "nbformat": 4,
 "nbformat_minor": 5
}
